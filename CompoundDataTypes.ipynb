{
 "cells": [
  {
   "cell_type": "markdown",
   "id": "885de56d",
   "metadata": {},
   "source": [
    "# Lists"
   ]
  },
  {
   "cell_type": "code",
   "execution_count": 2,
   "id": "be21d854",
   "metadata": {},
   "outputs": [
    {
     "name": "stdout",
     "output_type": "stream",
     "text": [
      "[23, 33, 22, 23, 21, 23]\n"
     ]
    }
   ],
   "source": [
    "L=[23,33,22,23,21,23]\n",
    "print(L)"
   ]
  },
  {
   "cell_type": "code",
   "execution_count": 3,
   "id": "4ca36826",
   "metadata": {},
   "outputs": [
    {
     "name": "stdout",
     "output_type": "stream",
     "text": [
      "['Cat', 'Dog', 'Cow']\n"
     ]
    }
   ],
   "source": [
    "S=[\"Cat\",\"Dog\",\"Cow\"]\n",
    "print(S)"
   ]
  },
  {
   "cell_type": "code",
   "execution_count": 4,
   "id": "46960824",
   "metadata": {},
   "outputs": [
    {
     "name": "stdout",
     "output_type": "stream",
     "text": [
      "['Cat', 23, 33, 43, True]\n"
     ]
    }
   ],
   "source": [
    "K=[\"Cat\",23,33,43,True]\n",
    "print(K)"
   ]
  },
  {
   "cell_type": "code",
   "execution_count": 5,
   "id": "c49d33e3",
   "metadata": {},
   "outputs": [],
   "source": [
    "p=[] #Empty List"
   ]
  },
  {
   "cell_type": "code",
   "execution_count": 6,
   "id": "8fce499d",
   "metadata": {},
   "outputs": [
    {
     "data": {
      "text/plain": [
       "6"
      ]
     },
     "execution_count": 6,
     "metadata": {},
     "output_type": "execute_result"
    }
   ],
   "source": [
    "len(L)"
   ]
  },
  {
   "cell_type": "code",
   "execution_count": 7,
   "id": "dee8648a",
   "metadata": {},
   "outputs": [
    {
     "data": {
      "text/plain": [
       "list"
      ]
     },
     "execution_count": 7,
     "metadata": {},
     "output_type": "execute_result"
    }
   ],
   "source": [
    "type(L)"
   ]
  },
  {
   "cell_type": "markdown",
   "id": "421f9550",
   "metadata": {},
   "source": [
    "# Nested Lists"
   ]
  },
  {
   "cell_type": "code",
   "execution_count": 8,
   "id": "70a81b65",
   "metadata": {},
   "outputs": [],
   "source": [
    "L=[12,22,33,31,[23,45,67,45],\"Man\"]"
   ]
  },
  {
   "cell_type": "code",
   "execution_count": 9,
   "id": "5752edae",
   "metadata": {},
   "outputs": [
    {
     "name": "stdout",
     "output_type": "stream",
     "text": [
      "[12, 22, 33, 31, [23, 45, 67, 45], 'Man']\n"
     ]
    }
   ],
   "source": [
    "print(L)"
   ]
  },
  {
   "cell_type": "code",
   "execution_count": 10,
   "id": "d744c3b2",
   "metadata": {},
   "outputs": [
    {
     "data": {
      "text/plain": [
       "6"
      ]
     },
     "execution_count": 10,
     "metadata": {},
     "output_type": "execute_result"
    }
   ],
   "source": [
    "len(L)"
   ]
  },
  {
   "cell_type": "markdown",
   "id": "1a6c6ef4",
   "metadata": {},
   "source": [
    "# Adding lists & Scaler Multiplication"
   ]
  },
  {
   "cell_type": "code",
   "execution_count": 11,
   "id": "bbf7bada",
   "metadata": {},
   "outputs": [
    {
     "name": "stdout",
     "output_type": "stream",
     "text": [
      "[23, 33, 21, 23, 45, 43, 32]\n"
     ]
    }
   ],
   "source": [
    "L1=[23,33,21,23]\n",
    "L2=[45,43,32]\n",
    "L=L1+L2\n",
    "print(L)"
   ]
  },
  {
   "cell_type": "code",
   "execution_count": 12,
   "id": "640dd033",
   "metadata": {},
   "outputs": [
    {
     "name": "stdout",
     "output_type": "stream",
     "text": [
      "[23, 33, 21, 23, 23, 33, 21, 23, 23, 33, 21, 23]\n"
     ]
    }
   ],
   "source": [
    "L=L1*3\n",
    "print(L)"
   ]
  },
  {
   "cell_type": "code",
   "execution_count": 13,
   "id": "1a87169c",
   "metadata": {},
   "outputs": [
    {
     "data": {
      "text/plain": [
       "[69, 99, 63, 69]"
      ]
     },
     "execution_count": 13,
     "metadata": {},
     "output_type": "execute_result"
    }
   ],
   "source": [
    "[3*i for i in L1]"
   ]
  },
  {
   "cell_type": "markdown",
   "id": "20bdd27e",
   "metadata": {},
   "source": [
    "# Subsetting lists"
   ]
  },
  {
   "cell_type": "markdown",
   "id": "b176b79b",
   "metadata": {},
   "source": [
    "## Indexing"
   ]
  },
  {
   "cell_type": "code",
   "execution_count": 14,
   "id": "b9562171",
   "metadata": {},
   "outputs": [],
   "source": [
    "L=[4,5,3,6,8,3,7,9,12,26,43]"
   ]
  },
  {
   "cell_type": "code",
   "execution_count": 15,
   "id": "752f736d",
   "metadata": {},
   "outputs": [
    {
     "data": {
      "text/plain": [
       "4"
      ]
     },
     "execution_count": 15,
     "metadata": {},
     "output_type": "execute_result"
    }
   ],
   "source": [
    "L[0]"
   ]
  },
  {
   "cell_type": "code",
   "execution_count": 16,
   "id": "c03104e4",
   "metadata": {},
   "outputs": [
    {
     "data": {
      "text/plain": [
       "3"
      ]
     },
     "execution_count": 16,
     "metadata": {},
     "output_type": "execute_result"
    }
   ],
   "source": [
    "L[2]"
   ]
  },
  {
   "cell_type": "code",
   "execution_count": 17,
   "id": "f6b80760",
   "metadata": {},
   "outputs": [
    {
     "data": {
      "text/plain": [
       "43"
      ]
     },
     "execution_count": 17,
     "metadata": {},
     "output_type": "execute_result"
    }
   ],
   "source": [
    "L[-1]"
   ]
  },
  {
   "cell_type": "code",
   "execution_count": 18,
   "id": "c8f12102",
   "metadata": {},
   "outputs": [
    {
     "data": {
      "text/plain": [
       "12"
      ]
     },
     "execution_count": 18,
     "metadata": {},
     "output_type": "execute_result"
    }
   ],
   "source": [
    "L[-3]"
   ]
  },
  {
   "cell_type": "markdown",
   "id": "a52bd70b",
   "metadata": {},
   "source": [
    "## Slicing"
   ]
  },
  {
   "cell_type": "code",
   "execution_count": 19,
   "id": "19ec245f",
   "metadata": {},
   "outputs": [
    {
     "data": {
      "text/plain": [
       "[4, 5, 3, 6, 8, 3, 7, 9, 12, 26, 43]"
      ]
     },
     "execution_count": 19,
     "metadata": {},
     "output_type": "execute_result"
    }
   ],
   "source": [
    "L"
   ]
  },
  {
   "cell_type": "code",
   "execution_count": 20,
   "id": "470cae4a",
   "metadata": {},
   "outputs": [
    {
     "data": {
      "text/plain": [
       "[5, 3, 6, 8]"
      ]
     },
     "execution_count": 20,
     "metadata": {},
     "output_type": "execute_result"
    }
   ],
   "source": [
    "L[1:5]         # without last(dth index)"
   ]
  },
  {
   "cell_type": "code",
   "execution_count": 21,
   "id": "ef09c5c6",
   "metadata": {},
   "outputs": [
    {
     "data": {
      "text/plain": [
       "[3, 6, 8, 3, 7, 9, 12, 26, 43]"
      ]
     },
     "execution_count": 21,
     "metadata": {},
     "output_type": "execute_result"
    }
   ],
   "source": [
    "L[2:]"
   ]
  },
  {
   "cell_type": "code",
   "execution_count": 22,
   "id": "f1f33995",
   "metadata": {},
   "outputs": [
    {
     "data": {
      "text/plain": [
       "[4, 5, 3, 6, 8]"
      ]
     },
     "execution_count": 22,
     "metadata": {},
     "output_type": "execute_result"
    }
   ],
   "source": [
    "L[:5]"
   ]
  },
  {
   "cell_type": "code",
   "execution_count": 23,
   "id": "749d3b10",
   "metadata": {},
   "outputs": [
    {
     "data": {
      "text/plain": [
       "[4, 3, 43]"
      ]
     },
     "execution_count": 23,
     "metadata": {},
     "output_type": "execute_result"
    }
   ],
   "source": [
    "L[::5]  #5*"
   ]
  },
  {
   "cell_type": "code",
   "execution_count": 24,
   "id": "7d894eeb",
   "metadata": {},
   "outputs": [
    {
     "data": {
      "text/plain": [
       "[43, 12, 7, 8, 3, 4]"
      ]
     },
     "execution_count": 24,
     "metadata": {},
     "output_type": "execute_result"
    }
   ],
   "source": [
    "L[::-2]\n"
   ]
  },
  {
   "cell_type": "code",
   "execution_count": 26,
   "id": "60af08a0",
   "metadata": {},
   "outputs": [
    {
     "data": {
      "text/plain": [
       "[4, 5, 3, 6, 8, 3, 7, 9, 12, 26]"
      ]
     },
     "execution_count": 26,
     "metadata": {},
     "output_type": "execute_result"
    }
   ],
   "source": [
    "L[:-1]"
   ]
  },
  {
   "cell_type": "code",
   "execution_count": 27,
   "id": "95125434",
   "metadata": {},
   "outputs": [
    {
     "data": {
      "text/plain": [
       "[12, 26, 43]"
      ]
     },
     "execution_count": 27,
     "metadata": {},
     "output_type": "execute_result"
    }
   ],
   "source": [
    "L[-3:]"
   ]
  },
  {
   "cell_type": "code",
   "execution_count": 28,
   "id": "ecfddbcb",
   "metadata": {},
   "outputs": [
    {
     "data": {
      "text/plain": [
       "[12, 26, 43]"
      ]
     },
     "execution_count": 28,
     "metadata": {},
     "output_type": "execute_result"
    }
   ],
   "source": [
    "L[-3:]"
   ]
  },
  {
   "cell_type": "markdown",
   "id": "36179af9",
   "metadata": {},
   "source": [
    "# Sets"
   ]
  },
  {
   "cell_type": "code",
   "execution_count": 1,
   "id": "6b11244d",
   "metadata": {},
   "outputs": [
    {
     "name": "stdout",
     "output_type": "stream",
     "text": [
      "{1, 2, 3}\n"
     ]
    }
   ],
   "source": [
    "# set of integers\n",
    "my_set = {1, 2, 3}\n",
    "print(my_set)"
   ]
  },
  {
   "cell_type": "code",
   "execution_count": 2,
   "id": "adc04784",
   "metadata": {},
   "outputs": [
    {
     "name": "stdout",
     "output_type": "stream",
     "text": [
      "{1.0, (1, 2, 3), 'Hello'}\n"
     ]
    }
   ],
   "source": [
    "# set of mixed datatypes\n",
    "my_set = {1.0, \"Hello\", (1, 2, 3)}\n",
    "print(my_set)"
   ]
  },
  {
   "cell_type": "code",
   "execution_count": 3,
   "id": "d5c2bc9d",
   "metadata": {},
   "outputs": [
    {
     "name": "stdout",
     "output_type": "stream",
     "text": [
      "{1, 2, 3, 4}\n"
     ]
    }
   ],
   "source": [
    "# No duplicates\n",
    "my_set = {1, 2, 3, 4, 3, 2}\n",
    "print(my_set)"
   ]
  },
  {
   "cell_type": "code",
   "execution_count": 4,
   "id": "378fb8bc",
   "metadata": {},
   "outputs": [
    {
     "name": "stdout",
     "output_type": "stream",
     "text": [
      "{1, 2, 3}\n"
     ]
    }
   ],
   "source": [
    "# we can make set from a list\n",
    "my_set = set([1, 2, 3, 2])\n",
    "print(my_set)"
   ]
  },
  {
   "cell_type": "code",
   "execution_count": 5,
   "id": "9aa1fa69",
   "metadata": {},
   "outputs": [
    {
     "ename": "TypeError",
     "evalue": "unhashable type: 'list'",
     "output_type": "error",
     "traceback": [
      "\u001b[1;31m---------------------------------------------------------------------------\u001b[0m",
      "\u001b[1;31mTypeError\u001b[0m                                 Traceback (most recent call last)",
      "\u001b[1;32m~\\AppData\\Local\\Temp\\ipykernel_7428\\101014292.py\u001b[0m in \u001b[0;36m<module>\u001b[1;34m\u001b[0m\n\u001b[0;32m      1\u001b[0m \u001b[1;31m# set cannot have mutable items\u001b[0m\u001b[1;33m\u001b[0m\u001b[1;33m\u001b[0m\u001b[0m\n\u001b[0;32m      2\u001b[0m \u001b[1;31m# this will cause an error.\u001b[0m\u001b[1;33m\u001b[0m\u001b[1;33m\u001b[0m\u001b[0m\n\u001b[1;32m----> 3\u001b[1;33m \u001b[0mmy_set\u001b[0m \u001b[1;33m=\u001b[0m \u001b[1;33m{\u001b[0m\u001b[1;36m1\u001b[0m\u001b[1;33m,\u001b[0m \u001b[1;36m2\u001b[0m\u001b[1;33m,\u001b[0m \u001b[1;33m[\u001b[0m\u001b[1;36m3\u001b[0m\u001b[1;33m,\u001b[0m \u001b[1;36m4\u001b[0m\u001b[1;33m]\u001b[0m\u001b[1;33m}\u001b[0m\u001b[1;33m\u001b[0m\u001b[1;33m\u001b[0m\u001b[0m\n\u001b[0m",
      "\u001b[1;31mTypeError\u001b[0m: unhashable type: 'list'"
     ]
    }
   ],
   "source": [
    "# set cannot have mutable items\n",
    "# this will cause an error.\n",
    "my_set = {1, 2, [3, 4]}"
   ]
  },
  {
   "cell_type": "code",
   "execution_count": 6,
   "id": "d2832ec9",
   "metadata": {},
   "outputs": [
    {
     "name": "stdout",
     "output_type": "stream",
     "text": [
      "<class 'dict'>\n",
      "<class 'set'>\n"
     ]
    }
   ],
   "source": [
    "# initialise a with {}\n",
    "a = {}\n",
    "\n",
    "# check data type of a\n",
    "print(type(a))\n",
    "\n",
    "# initialise a with set()\n",
    "a = set()\n",
    "\n",
    "# check data type of a\n",
    "print(type(a))"
   ]
  },
  {
   "cell_type": "markdown",
   "id": "dce54fe2",
   "metadata": {},
   "source": [
    "## Set operation"
   ]
  },
  {
   "cell_type": "code",
   "execution_count": 7,
   "id": "a2804eb5",
   "metadata": {},
   "outputs": [
    {
     "name": "stdout",
     "output_type": "stream",
     "text": [
      "The length of the set is: 3\n"
     ]
    }
   ],
   "source": [
    "set1 = set()\n",
    "# Adding element and tuple to the Set\n",
    "\n",
    "set1.add(8)\n",
    "set1.add(9)\n",
    "set1.add((6, 7))\n",
    "\n",
    "print(\"The length of the set is:\", len(set1))"
   ]
  },
  {
   "cell_type": "code",
   "execution_count": 8,
   "id": "2fb825bc",
   "metadata": {},
   "outputs": [
    {
     "name": "stdout",
     "output_type": "stream",
     "text": [
      "\\Initial set\n",
      "{'a', 'b', 'c'}\n",
      "\n",
      "Elements of set: \n",
      "a b c True\n"
     ]
    }
   ],
   "source": [
    "set1 = set([\"a\", \"b\", \"c\"])\n",
    "print(\"\\Initial set\")\n",
    "print(set1)\n",
    "\n",
    "# Accessing element using\n",
    "# for loop\n",
    "print(\"\\nElements of set: \")\n",
    "for i in set1:\n",
    "\tprint(i, end=\" \")\n",
    "\n",
    "# Checking the element\n",
    "# using in keyword\n",
    "print(\"a\" in set1)"
   ]
  },
  {
   "cell_type": "code",
   "execution_count": 9,
   "id": "7bf08485",
   "metadata": {},
   "outputs": [
    {
     "name": "stdout",
     "output_type": "stream",
     "text": [
      "Initial blank Set: \n",
      "set()\n",
      "\n",
      "Set after Addition of Three elements: \n",
      "{8, 9, (6, 7)}\n",
      "\n",
      "Set after Addition of elements from 1-5: \n",
      "{1, 2, 3, 4, 5, 8, 9, (6, 7)}\n"
     ]
    }
   ],
   "source": [
    "set1 = set()\n",
    "print(\"Initial blank Set: \")\n",
    "print(set1)\n",
    "\n",
    "# Adding element and tuple to the Set\n",
    "set1.add(8)\n",
    "set1.add(9)\n",
    "set1.add((6,7))\n",
    "print(\"\\nSet after Addition of Three elements: \")\n",
    "print(set1)\n",
    "\n",
    "# Adding elements to the Set\n",
    "# using Iterator\n",
    "for i in range(1, 6):\n",
    "\tset1.add(i)\n",
    "print(\"\\nSet after Addition of elements from 1-5: \")\n",
    "print(set1)"
   ]
  },
  {
   "cell_type": "code",
   "execution_count": 10,
   "id": "36193c3e",
   "metadata": {},
   "outputs": [
    {
     "name": "stdout",
     "output_type": "stream",
     "text": [
      "\n",
      "Set after Addition of elements using Update: \n",
      "{4, 5, 10, 11, (6, 7)}\n"
     ]
    }
   ],
   "source": [
    "set1 = set([ 4, 5, (6, 7)])\n",
    "\n",
    "set1.update([10, 11])\n",
    "\n",
    "print(\"\\nSet after Addition of elements using Update: \")\n",
    "print(set1)\t"
   ]
  },
  {
   "cell_type": "code",
   "execution_count": 11,
   "id": "8694c175",
   "metadata": {},
   "outputs": [
    {
     "name": "stdout",
     "output_type": "stream",
     "text": [
      "Initial Set: \n",
      "{1, 2, 3, 4, 5, 6, 7, 8, 9, 10, 11, 12}\n",
      "\n",
      "Set after Removal of two elements: \n",
      "{1, 2, 3, 4, 7, 8, 9, 10, 11, 12}\n",
      "\n",
      "Set after Discarding two elements: \n",
      "{1, 2, 3, 4, 7, 10, 11, 12}\n",
      "\n",
      "Set after Removing a range of elements: \n",
      "{7, 10, 11, 12}\n"
     ]
    }
   ],
   "source": [
    "set1 = set([1, 2, 3, 4, 5, 6, 7, 8, 9, 10, 11, 12])\n",
    "print(\"Initial Set: \")\n",
    "print(set1)\n",
    "\n",
    "set1.remove(5)\n",
    "set1.remove(6)\n",
    "print(\"\\nSet after Removal of two elements: \")\n",
    "print(set1)\n",
    "\n",
    "set1.discard(8)\n",
    "set1.discard(9)\n",
    "print(\"\\nSet after Discarding two elements: \")\n",
    "print(set1)\n",
    "\n",
    "for i in range(1, 5):\n",
    "\tset1.remove(i)\n",
    "print(\"\\nSet after Removing a range of elements: \")\n",
    "print(set1)"
   ]
  },
  {
   "cell_type": "code",
   "execution_count": 14,
   "id": "f89fe7b3",
   "metadata": {},
   "outputs": [
    {
     "name": "stdout",
     "output_type": "stream",
     "text": [
      "Initial Set: \n",
      "{1, 2, 3, 4, 5, 6, 7, 8, 9, 10, 11, 12}\n",
      "\n",
      "Set after popping an element: \n",
      "{2, 3, 4, 5, 6, 7, 8, 9, 10, 11, 12}\n"
     ]
    }
   ],
   "source": [
    "set1 = set([1, 2, 3, 4, 5, 6,\n",
    "\t\t\t7, 8, 9, 10, 11, 12])\n",
    "print(\"Initial Set: \")\n",
    "print(set1)\n",
    "\n",
    "# Removing element from the\n",
    "# Set using the pop() method\n",
    "set1.pop()\n",
    "print(\"\\nSet after popping an element: \")\n",
    "print(set1)"
   ]
  },
  {
   "cell_type": "code",
   "execution_count": 15,
   "id": "7a9b18f6",
   "metadata": {},
   "outputs": [],
   "source": [
    "#Pop() function can also be used to remove and return an element from the set, but it removes only the last element of the set. \n",
    "#Note – If the set is unordered then there’s no such way to determine which element is popped by using the pop() function."
   ]
  },
  {
   "cell_type": "code",
   "execution_count": 16,
   "id": "60b3d35b",
   "metadata": {},
   "outputs": [
    {
     "name": "stdout",
     "output_type": "stream",
     "text": [
      "{'a', 'f', 'e', 'd', 'b', 'c'}\n",
      "{'a', 'f', 'd', 'b', 'c'}\n"
     ]
    }
   ],
   "source": [
    "x = {\"a\", \"b\", \"c\"}\n",
    "y = {\"f\", \"d\", \"a\"}\n",
    "z = {\"c\", \"d\", \"e\"}\n",
    "\n",
    "result = x.union(y, z)\n",
    "print(result)\n",
    "\n",
    "print(x|y)"
   ]
  },
  {
   "cell_type": "code",
   "execution_count": 17,
   "id": "d0593617",
   "metadata": {},
   "outputs": [
    {
     "name": "stdout",
     "output_type": "stream",
     "text": [
      "{'c'}\n",
      "{'c'}\n"
     ]
    }
   ],
   "source": [
    "x = {\"a\", \"b\", \"c\"}\n",
    "y = {\"c\", \"d\", \"e\"}\n",
    "z = {\"f\", \"g\", \"c\"}\n",
    "\n",
    "result = x.intersection(y, z)\n",
    "print(result)\n",
    "\n",
    "print(x&y)"
   ]
  },
  {
   "cell_type": "code",
   "execution_count": 18,
   "id": "918ad6b5",
   "metadata": {},
   "outputs": [
    {
     "name": "stdout",
     "output_type": "stream",
     "text": [
      "{'a', 'b', 'd'}\n",
      "{'f', 'g'}\n",
      "{'a', 'b', 'd'}\n",
      "{'f', 'g'}\n"
     ]
    }
   ],
   "source": [
    "A = {'a', 'b', 'c', 'd'}\n",
    "B = {'c', 'f', 'g'}\n",
    "\n",
    "# Equivalent to A-B\n",
    "print(A.difference(B))\n",
    "\n",
    "# Equivalent to B-A\n",
    "print(B.difference(A))\n",
    "\n",
    "print(A-B)\n",
    "print(B-A)"
   ]
  },
  {
   "cell_type": "code",
   "execution_count": 25,
   "id": "a680ce25",
   "metadata": {},
   "outputs": [],
   "source": [
    "A ={'a', 5, 'string', 'a', 312} "
   ]
  },
  {
   "cell_type": "code",
   "execution_count": 24,
   "id": "909344f0",
   "metadata": {},
   "outputs": [
    {
     "ename": "TypeError",
     "evalue": "unhashable type: 'list'",
     "output_type": "error",
     "traceback": [
      "\u001b[1;31m---------------------------------------------------------------------------\u001b[0m",
      "\u001b[1;31mTypeError\u001b[0m                                 Traceback (most recent call last)",
      "\u001b[1;32m~\\AppData\\Local\\Temp\\ipykernel_7428\\2874501099.py\u001b[0m in \u001b[0;36m<module>\u001b[1;34m\u001b[0m\n\u001b[1;32m----> 1\u001b[1;33m \u001b[0mA\u001b[0m\u001b[1;33m=\u001b[0m\u001b[1;33m{\u001b[0m\u001b[1;33m[\u001b[0m\u001b[1;36m12\u001b[0m\u001b[1;33m,\u001b[0m \u001b[1;36m78\u001b[0m\u001b[1;33m,\u001b[0m \u001b[1;36m78\u001b[0m\u001b[1;33m]\u001b[0m\u001b[1;33m,\u001b[0m \u001b[1;34m'python'\u001b[0m\u001b[1;33m,\u001b[0m \u001b[1;34m'is easy'\u001b[0m\u001b[1;33m}\u001b[0m\u001b[1;33m\u001b[0m\u001b[1;33m\u001b[0m\u001b[0m\n\u001b[0m",
      "\u001b[1;31mTypeError\u001b[0m: unhashable type: 'list'"
     ]
    }
   ],
   "source": [
    "A={[12, 78, 78], 'python', 'is easy'}"
   ]
  },
  {
   "cell_type": "code",
   "execution_count": 23,
   "id": "9e3c135c",
   "metadata": {},
   "outputs": [],
   "source": [
    "A={('one', 'two'), 'hello', 14}"
   ]
  },
  {
   "cell_type": "code",
   "execution_count": 28,
   "id": "702451fc",
   "metadata": {},
   "outputs": [
    {
     "ename": "TypeError",
     "evalue": "set expected at most 1 argument, got 3",
     "output_type": "error",
     "traceback": [
      "\u001b[1;31m---------------------------------------------------------------------------\u001b[0m",
      "\u001b[1;31mTypeError\u001b[0m                                 Traceback (most recent call last)",
      "\u001b[1;32m~\\AppData\\Local\\Temp\\ipykernel_7428\\2599243730.py\u001b[0m in \u001b[0;36m<module>\u001b[1;34m\u001b[0m\n\u001b[1;32m----> 1\u001b[1;33m \u001b[0mS\u001b[0m \u001b[1;33m=\u001b[0m \u001b[0mset\u001b[0m\u001b[1;33m(\u001b[0m\u001b[1;34m'a'\u001b[0m\u001b[1;33m,\u001b[0m \u001b[1;34m'b'\u001b[0m\u001b[1;33m,\u001b[0m \u001b[1;34m'c'\u001b[0m\u001b[1;33m)\u001b[0m \u001b[1;31m#invalid set\u001b[0m\u001b[1;33m\u001b[0m\u001b[1;33m\u001b[0m\u001b[0m\n\u001b[0m",
      "\u001b[1;31mTypeError\u001b[0m: set expected at most 1 argument, got 3"
     ]
    }
   ],
   "source": [
    "S = set('a', 'b', 'c') #invalid set"
   ]
  },
  {
   "cell_type": "code",
   "execution_count": 29,
   "id": "c38641e4",
   "metadata": {},
   "outputs": [
    {
     "name": "stdout",
     "output_type": "stream",
     "text": [
      "True\n"
     ]
    }
   ],
   "source": [
    "set1 = set([4, 5, (6, 7)])\n",
    "\n",
    "set1.update([5, 2, 6])\n",
    "\n",
    "check1 = 2 in set1\n",
    "\n",
    "check2 = 6 in set1\n",
    "\n",
    "print(check1 and check2)"
   ]
  },
  {
   "cell_type": "code",
   "execution_count": 30,
   "id": "e0b338d8",
   "metadata": {},
   "outputs": [],
   "source": [
    "sampleSet = {'Yellow', 'Orange', 'Blue'}"
   ]
  },
  {
   "cell_type": "code",
   "execution_count": 34,
   "id": "9f78baf7",
   "metadata": {},
   "outputs": [
    {
     "ename": "TypeError",
     "evalue": "set.pop() takes no arguments (1 given)",
     "output_type": "error",
     "traceback": [
      "\u001b[1;31m---------------------------------------------------------------------------\u001b[0m",
      "\u001b[1;31mTypeError\u001b[0m                                 Traceback (most recent call last)",
      "\u001b[1;32m~\\AppData\\Local\\Temp\\ipykernel_7428\\2326103143.py\u001b[0m in \u001b[0;36m<module>\u001b[1;34m\u001b[0m\n\u001b[1;32m----> 1\u001b[1;33m \u001b[0ma\u001b[0m\u001b[1;33m=\u001b[0m\u001b[0msampleSet\u001b[0m\u001b[1;33m.\u001b[0m\u001b[0mpop\u001b[0m\u001b[1;33m(\u001b[0m\u001b[1;34m'Orange'\u001b[0m\u001b[1;33m)\u001b[0m\u001b[1;33m\u001b[0m\u001b[1;33m\u001b[0m\u001b[0m\n\u001b[0m",
      "\u001b[1;31mTypeError\u001b[0m: set.pop() takes no arguments (1 given)"
     ]
    }
   ],
   "source": [
    "a=sampleSet.pop('Orange')"
   ]
  },
  {
   "cell_type": "code",
   "execution_count": 36,
   "id": "0984023d",
   "metadata": {},
   "outputs": [],
   "source": [
    "a=sampleSet.discard('Orange')"
   ]
  },
  {
   "cell_type": "code",
   "execution_count": 39,
   "id": "47df4b78",
   "metadata": {},
   "outputs": [
    {
     "name": "stdout",
     "output_type": "stream",
     "text": [
      "{'Blue', 'Yellow'}\n"
     ]
    }
   ],
   "source": [
    "print(sampleSet)"
   ]
  },
  {
   "cell_type": "markdown",
   "id": "99d66f23",
   "metadata": {},
   "source": [
    "# Dictionaries"
   ]
  },
  {
   "cell_type": "code",
   "execution_count": 40,
   "id": "059eb56d",
   "metadata": {},
   "outputs": [
    {
     "name": "stdout",
     "output_type": "stream",
     "text": [
      "{'brand': 'Nissan', 'model': 'D21', 'year': 1989}\n"
     ]
    }
   ],
   "source": [
    "thisdict = {\n",
    "  \"brand\": \"Nissan\",\n",
    "  \"model\": \"D21\",\n",
    "  \"year\": 1989\n",
    "}\n",
    "\n",
    "print(thisdict)"
   ]
  },
  {
   "cell_type": "code",
   "execution_count": 42,
   "id": "736517bd",
   "metadata": {},
   "outputs": [
    {
     "name": "stdout",
     "output_type": "stream",
     "text": [
      "{}\n",
      "Length: 0\n",
      "<class 'dict'>\n",
      "{1: \"Newton's method\", 2: \"Taylor's theorem\", 3: \"L'Hopital's rule\"}\n"
     ]
    }
   ],
   "source": [
    "# {} symbol to initialize dictionary\n",
    "emptyDict = {}\n",
    " \n",
    "# print dictionary\n",
    "print(emptyDict)\n",
    " \n",
    "# print length of dictionary\n",
    "print(\"Length:\", len(emptyDict))\n",
    " \n",
    "# print type\n",
    "print(type(emptyDict))\n",
    "\n",
    "\n",
    "test_dictionary = {1:\"Newton's method\",2:\"Taylor's theorem\", 3:\"L'Hopital's rule\"}\n",
    "print(test_dictionary)"
   ]
  },
  {
   "cell_type": "code",
   "execution_count": 43,
   "id": "36759b4f",
   "metadata": {},
   "outputs": [
    {
     "name": "stdout",
     "output_type": "stream",
     "text": [
      "{}\n",
      "Length: 0\n",
      "<class 'dict'>\n",
      "{'Offroad': 'Hilux', 'Cargo': 'Hiace', 'Luxury': 'Crown'}\n"
     ]
    }
   ],
   "source": [
    "# initialize dictionary\n",
    "emptyDict = dict()\n",
    "\n",
    "# print dictionary\n",
    "print(emptyDict)\n",
    "\n",
    "# print length of dictionary\n",
    "print(\"Length:\",len(emptyDict))\n",
    "\n",
    "# print type\n",
    "print(type(emptyDict))\n",
    "\n",
    "test_dictionary = dict([('Offroad','Hilux'),('Cargo','Hiace'), ('Luxury','Crown')])\n",
    "print(test_dictionary)"
   ]
  },
  {
   "cell_type": "code",
   "execution_count": 44,
   "id": "2dd8eaa3",
   "metadata": {},
   "outputs": [
    {
     "name": "stdout",
     "output_type": "stream",
     "text": [
      "Sri Lanka\n",
      "Colombo 05\n"
     ]
    }
   ],
   "source": [
    "univ_dict = {\n",
    "    \"University\": \"University of Colombo\",\n",
    "    \"Country\": \"Sri Lanka\",\n",
    "    \"Location\": \"Colombo 05\"\n",
    "}\n",
    "\n",
    "print(univ_dict[\"Country\"])\n",
    "\n",
    "print(univ_dict.get(\"Location\"))"
   ]
  },
  {
   "cell_type": "code",
   "execution_count": 45,
   "id": "91e9cefa",
   "metadata": {},
   "outputs": [
    {
     "name": "stdout",
     "output_type": "stream",
     "text": [
      "dict_keys(['University', 'Country', 'Location'])\n",
      "dict_values(['University of Colombo', 'Sri Lanka', 'Colombo 05'])\n",
      "dict_items([('University', 'University of Colombo'), ('Country', 'Sri Lanka'), ('Location', 'Colombo 05')])\n"
     ]
    }
   ],
   "source": [
    "print(univ_dict.keys())\n",
    "print(univ_dict.values())\n",
    "print(univ_dict.items())"
   ]
  },
  {
   "cell_type": "code",
   "execution_count": 46,
   "id": "e8bdb258",
   "metadata": {},
   "outputs": [
    {
     "name": "stdout",
     "output_type": "stream",
     "text": [
      "{'brand': 'Lamborghini', 'model': 'Miura', 'year': 1973, 'type': 'sports'}\n",
      "{'brand': 'Lamborghini', 'model': 'Miura', 'year': 1973, 'type': 'exotic'}\n"
     ]
    }
   ],
   "source": [
    "car_dict = {\"brand\": \"Lamborghini\", \"model\": \"Miura\", \"year\": 1973}\n",
    "car_dict[\"type\"] = \"sports\" # Adding an element\n",
    "\n",
    "print(car_dict)\n",
    "\n",
    "car_dict[\"type\"] = \"exotic\" #Updating an element\n",
    "\n",
    "print(car_dict)"
   ]
  },
  {
   "cell_type": "code",
   "execution_count": 47,
   "id": "d4a9b89b",
   "metadata": {},
   "outputs": [
    {
     "name": "stdout",
     "output_type": "stream",
     "text": [
      "{'string_1': 'I', 'string_2': 'need', 'string_3': 'some'}\n",
      "{'string_1': 'I', 'string_2': 'need', 'string_3': 'some', 'string_4': 'water'}\n",
      "{'string_1': 'I', 'string_2': 'need', 'string_3': 'some', 'string_4': 'water', 'string_5': 'thirsty', 'string_6': 'quickly'}\n",
      "{'string_1': 'I', 'string_2': 'need', 'string_3': 'some', 'string_4': 'juice', 'string_5': 'thirsty', 'string_6': 'quickly'}\n"
     ]
    }
   ],
   "source": [
    "dictionary = {'string_1': 'I', 'string_2': 'want'}\n",
    "\n",
    "# using the subscript notation\n",
    "# Dictionary_Name[New_Key_Name] = New_Key_Value\n",
    "dictionary['string_2'] = 'need'  # Updating\n",
    "dictionary['string_3'] = 'some'  # Adding\n",
    "print(dictionary)\n",
    "\n",
    "# using the built-in update() function\n",
    "# adding\n",
    "dictionary.update({'string_4': 'water'})\n",
    "print(dictionary)\n",
    "\n",
    "# adding dictionary (string_5 and string_6) to dict\n",
    "dict1 = {'string_5': 'thirsty', 'string_6': 'quickly'}\n",
    "dictionary.update(dict1)\n",
    "print(dictionary)\n",
    "\n",
    "# updating by assigning\n",
    "dictionary.update(string_4='juice')\n",
    "print(dictionary)"
   ]
  },
  {
   "cell_type": "code",
   "execution_count": 48,
   "id": "f0747f2a",
   "metadata": {},
   "outputs": [
    {
     "name": "stdout",
     "output_type": "stream",
     "text": [
      "{'Jane': 'Laptop', 'Karl': 'Desktop', 'Anita': 'Tablet'}\n",
      "{'Jane': 'Laptop', 'Anita': 'Tablet'} \n",
      "The element which was poped - Desktop\n",
      "{'Jane': 'Laptop'} \n",
      "The item which was poped - ('Anita', 'Tablet')\n",
      "{}\n"
     ]
    },
    {
     "ename": "NameError",
     "evalue": "name 'test_dict' is not defined",
     "output_type": "error",
     "traceback": [
      "\u001b[1;31m---------------------------------------------------------------------------\u001b[0m",
      "\u001b[1;31mNameError\u001b[0m                                 Traceback (most recent call last)",
      "\u001b[1;32m~\\AppData\\Local\\Temp\\ipykernel_7428\\1763421673.py\u001b[0m in \u001b[0;36m<module>\u001b[1;34m\u001b[0m\n\u001b[0;32m     19\u001b[0m \u001b[1;31m# deletion of the dictionary\u001b[0m\u001b[1;33m\u001b[0m\u001b[1;33m\u001b[0m\u001b[0m\n\u001b[0;32m     20\u001b[0m \u001b[1;32mdel\u001b[0m \u001b[0mtest_dict\u001b[0m\u001b[1;33m\u001b[0m\u001b[1;33m\u001b[0m\u001b[0m\n\u001b[1;32m---> 21\u001b[1;33m \u001b[0mprint\u001b[0m\u001b[1;33m(\u001b[0m\u001b[0mtest_dict\u001b[0m\u001b[1;33m)\u001b[0m  \u001b[1;31m# This will raise an error\u001b[0m\u001b[1;33m\u001b[0m\u001b[1;33m\u001b[0m\u001b[0m\n\u001b[0m",
      "\u001b[1;31mNameError\u001b[0m: name 'test_dict' is not defined"
     ]
    }
   ],
   "source": [
    "test_dict = {'Alex': 'Phone', 'Jane': 'Laptop', 'Karl': 'Desktop', 'Anita': 'Tablet'}\n",
    "\n",
    "# del keyword\n",
    "del test_dict['Alex']\n",
    "print(test_dict)\n",
    "\n",
    "# buit-in pop() function\n",
    "element = test_dict.pop('Karl')\n",
    "print(test_dict, f'\\nThe element which was poped - {element}')\n",
    "\n",
    "# buit-in popitem() function\n",
    "item = test_dict.popitem()\n",
    "print(test_dict, f'\\nThe item which was poped - {item}')\n",
    "\n",
    "# built-in clear() function\n",
    "test_dict.clear()\n",
    "print(test_dict)\n",
    "\n",
    "# deletion of the dictionary\n",
    "del test_dict\n",
    "print(test_dict)  # This will raise an error"
   ]
  },
  {
   "cell_type": "code",
   "execution_count": 49,
   "id": "03512029",
   "metadata": {},
   "outputs": [
    {
     "name": "stdout",
     "output_type": "stream",
     "text": [
      "Original dictionary is : {'a': 1, 'b': 2, 'c': 3}\n",
      "Dict key-value are : \n",
      "a 1\n",
      "b 2\n",
      "c 3\n"
     ]
    }
   ],
   "source": [
    "test_dict = {\"a\" : 1, \"b\" : 2, \"c\" : 3}\n",
    "\n",
    "print(\"Original dictionary is : \" + str(test_dict))\n",
    "\n",
    "# using in operator to\n",
    "# get key and value\n",
    "print(\"Dict key-value are : \")\n",
    "for i in test_dict :\n",
    "\tprint(i, test_dict[i])"
   ]
  },
  {
   "cell_type": "code",
   "execution_count": 50,
   "id": "2e877987",
   "metadata": {},
   "outputs": [
    {
     "name": "stdout",
     "output_type": "stream",
     "text": [
      "Original dictionary is : {'a': 1, 'b': 2, 'c': 3}\n",
      "Dict key-value are : \n",
      "(0, ('a', 1))\n",
      "(1, ('b', 2))\n",
      "(2, ('c', 3))\n"
     ]
    }
   ],
   "source": [
    "test_dict = {\"a\" : 1, \"b\" : 2, \"c\" : 3}\n",
    "\n",
    "# Printing dictionary\n",
    "print(\"Original dictionary is : \" + str(test_dict))\n",
    "\n",
    "# using enumerate() to\n",
    "# get key and value\n",
    "print(\"Dict key-value are : \")\n",
    "for i in enumerate(test_dict.items()):\n",
    "\tprint (i)"
   ]
  },
  {
   "cell_type": "code",
   "execution_count": 51,
   "id": "85cea9d6",
   "metadata": {},
   "outputs": [
    {
     "name": "stdout",
     "output_type": "stream",
     "text": [
      "Original dictionary is : {'a': 1, 'b': 2, 'c': 3}\n",
      "Dict key-value are : \n",
      "a 1\n",
      "b 2\n",
      "c 3\n"
     ]
    }
   ],
   "source": [
    "test_dict = {\"a\" : 1, \"b\" : 2, \"c\" : 3}\n",
    "\n",
    "# Printing dictionary\n",
    "print(\"Original dictionary is : \" + str(test_dict))\n",
    "\n",
    "# using dict.items() to\n",
    "# get key and value\n",
    "print(\"Dict key-value are : \")\n",
    "for key, value in test_dict.items():\n",
    "\tprint(key, value)"
   ]
  },
  {
   "cell_type": "code",
   "execution_count": 52,
   "id": "784c3d12",
   "metadata": {},
   "outputs": [
    {
     "name": "stdout",
     "output_type": "stream",
     "text": [
      "Original dictionary is : {'a': 1, 'b': 2, 'c': 3}\n",
      "Dict key-value are : \n",
      "[('a', 1), ('b', 2), ('c', 3)]\n"
     ]
    }
   ],
   "source": [
    "test_dict = {\"a\" : 1, \"b\" : 2, \"c\" : 3}\n",
    "\n",
    "# Printing dictionary\n",
    "print(\"Original dictionary is : \" + str(test_dict))\n",
    "\n",
    "# using list comprehension to\n",
    "# get key and value\n",
    "print(\"Dict key-value are : \")\n",
    "print([(k, test_dict[k]) for k in test_dict])"
   ]
  },
  {
   "cell_type": "code",
   "execution_count": 1,
   "id": "529cb47e",
   "metadata": {},
   "outputs": [
    {
     "name": "stdout",
     "output_type": "stream",
     "text": [
      "['john', 'peter']\n"
     ]
    }
   ],
   "source": [
    "d = {\"john\":40, \"peter\":45}\n",
    "print(list(d.keys()))"
   ]
  },
  {
   "cell_type": "code",
   "execution_count": null,
   "id": "1e5b838f",
   "metadata": {},
   "outputs": [],
   "source": []
  }
 ],
 "metadata": {
  "kernelspec": {
   "display_name": "Python 3 (ipykernel)",
   "language": "python",
   "name": "python3"
  },
  "language_info": {
   "codemirror_mode": {
    "name": "ipython",
    "version": 3
   },
   "file_extension": ".py",
   "mimetype": "text/x-python",
   "name": "python",
   "nbconvert_exporter": "python",
   "pygments_lexer": "ipython3",
   "version": "3.9.13"
  }
 },
 "nbformat": 4,
 "nbformat_minor": 5
}

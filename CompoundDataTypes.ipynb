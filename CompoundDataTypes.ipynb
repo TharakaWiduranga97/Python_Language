{
 "cells": [
  {
   "cell_type": "markdown",
   "id": "885de56d",
   "metadata": {},
   "source": [
    "# Lists"
   ]
  },
  {
   "cell_type": "code",
   "execution_count": 2,
   "id": "be21d854",
   "metadata": {},
   "outputs": [
    {
     "name": "stdout",
     "output_type": "stream",
     "text": [
      "[23, 33, 22, 23, 21, 23]\n"
     ]
    }
   ],
   "source": [
    "L=[23,33,22,23,21,23]\n",
    "print(L)"
   ]
  },
  {
   "cell_type": "code",
   "execution_count": 3,
   "id": "4ca36826",
   "metadata": {},
   "outputs": [
    {
     "name": "stdout",
     "output_type": "stream",
     "text": [
      "['Cat', 'Dog', 'Cow']\n"
     ]
    }
   ],
   "source": [
    "S=[\"Cat\",\"Dog\",\"Cow\"]\n",
    "print(S)"
   ]
  },
  {
   "cell_type": "code",
   "execution_count": 4,
   "id": "46960824",
   "metadata": {},
   "outputs": [
    {
     "name": "stdout",
     "output_type": "stream",
     "text": [
      "['Cat', 23, 33, 43, True]\n"
     ]
    }
   ],
   "source": [
    "K=[\"Cat\",23,33,43,True]\n",
    "print(K)"
   ]
  },
  {
   "cell_type": "code",
   "execution_count": 5,
   "id": "c49d33e3",
   "metadata": {},
   "outputs": [],
   "source": [
    "p=[] #Empty List"
   ]
  },
  {
   "cell_type": "code",
   "execution_count": 6,
   "id": "8fce499d",
   "metadata": {},
   "outputs": [
    {
     "data": {
      "text/plain": [
       "6"
      ]
     },
     "execution_count": 6,
     "metadata": {},
     "output_type": "execute_result"
    }
   ],
   "source": [
    "len(L)"
   ]
  },
  {
   "cell_type": "code",
   "execution_count": 7,
   "id": "dee8648a",
   "metadata": {},
   "outputs": [
    {
     "data": {
      "text/plain": [
       "list"
      ]
     },
     "execution_count": 7,
     "metadata": {},
     "output_type": "execute_result"
    }
   ],
   "source": [
    "type(L)"
   ]
  },
  {
   "cell_type": "markdown",
   "id": "421f9550",
   "metadata": {},
   "source": [
    "# Nested Lists"
   ]
  },
  {
   "cell_type": "code",
   "execution_count": 8,
   "id": "70a81b65",
   "metadata": {},
   "outputs": [],
   "source": [
    "L=[12,22,33,31,[23,45,67,45],\"Man\"]"
   ]
  },
  {
   "cell_type": "code",
   "execution_count": 9,
   "id": "5752edae",
   "metadata": {},
   "outputs": [
    {
     "name": "stdout",
     "output_type": "stream",
     "text": [
      "[12, 22, 33, 31, [23, 45, 67, 45], 'Man']\n"
     ]
    }
   ],
   "source": [
    "print(L)"
   ]
  },
  {
   "cell_type": "code",
   "execution_count": 10,
   "id": "d744c3b2",
   "metadata": {},
   "outputs": [
    {
     "data": {
      "text/plain": [
       "6"
      ]
     },
     "execution_count": 10,
     "metadata": {},
     "output_type": "execute_result"
    }
   ],
   "source": [
    "len(L)"
   ]
  },
  {
   "cell_type": "markdown",
   "id": "1a6c6ef4",
   "metadata": {},
   "source": [
    "# Adding lists & Scaler Multiplication"
   ]
  },
  {
   "cell_type": "code",
   "execution_count": 11,
   "id": "bbf7bada",
   "metadata": {},
   "outputs": [
    {
     "name": "stdout",
     "output_type": "stream",
     "text": [
      "[23, 33, 21, 23, 45, 43, 32]\n"
     ]
    }
   ],
   "source": [
    "L1=[23,33,21,23]\n",
    "L2=[45,43,32]\n",
    "L=L1+L2\n",
    "print(L)"
   ]
  },
  {
   "cell_type": "code",
   "execution_count": 12,
   "id": "640dd033",
   "metadata": {},
   "outputs": [
    {
     "name": "stdout",
     "output_type": "stream",
     "text": [
      "[23, 33, 21, 23, 23, 33, 21, 23, 23, 33, 21, 23]\n"
     ]
    }
   ],
   "source": [
    "L=L1*3\n",
    "print(L)"
   ]
  },
  {
   "cell_type": "code",
   "execution_count": 13,
   "id": "1a87169c",
   "metadata": {},
   "outputs": [
    {
     "data": {
      "text/plain": [
       "[69, 99, 63, 69]"
      ]
     },
     "execution_count": 13,
     "metadata": {},
     "output_type": "execute_result"
    }
   ],
   "source": [
    "[3*i for i in L1]"
   ]
  },
  {
   "cell_type": "markdown",
   "id": "20bdd27e",
   "metadata": {},
   "source": [
    "# Subsetting lists"
   ]
  },
  {
   "cell_type": "markdown",
   "id": "b176b79b",
   "metadata": {},
   "source": [
    "## Indexing"
   ]
  },
  {
   "cell_type": "code",
   "execution_count": 14,
   "id": "b9562171",
   "metadata": {},
   "outputs": [],
   "source": [
    "L=[4,5,3,6,8,3,7,9,12,26,43]"
   ]
  },
  {
   "cell_type": "code",
   "execution_count": 15,
   "id": "752f736d",
   "metadata": {},
   "outputs": [
    {
     "data": {
      "text/plain": [
       "4"
      ]
     },
     "execution_count": 15,
     "metadata": {},
     "output_type": "execute_result"
    }
   ],
   "source": [
    "L[0]"
   ]
  },
  {
   "cell_type": "code",
   "execution_count": 16,
   "id": "c03104e4",
   "metadata": {},
   "outputs": [
    {
     "data": {
      "text/plain": [
       "3"
      ]
     },
     "execution_count": 16,
     "metadata": {},
     "output_type": "execute_result"
    }
   ],
   "source": [
    "L[2]"
   ]
  },
  {
   "cell_type": "code",
   "execution_count": 17,
   "id": "f6b80760",
   "metadata": {},
   "outputs": [
    {
     "data": {
      "text/plain": [
       "43"
      ]
     },
     "execution_count": 17,
     "metadata": {},
     "output_type": "execute_result"
    }
   ],
   "source": [
    "L[-1]"
   ]
  },
  {
   "cell_type": "code",
   "execution_count": 18,
   "id": "c8f12102",
   "metadata": {},
   "outputs": [
    {
     "data": {
      "text/plain": [
       "12"
      ]
     },
     "execution_count": 18,
     "metadata": {},
     "output_type": "execute_result"
    }
   ],
   "source": [
    "L[-3]"
   ]
  },
  {
   "cell_type": "markdown",
   "id": "a52bd70b",
   "metadata": {},
   "source": [
    "## Slicing"
   ]
  },
  {
   "cell_type": "code",
   "execution_count": 19,
   "id": "19ec245f",
   "metadata": {},
   "outputs": [
    {
     "data": {
      "text/plain": [
       "[4, 5, 3, 6, 8, 3, 7, 9, 12, 26, 43]"
      ]
     },
     "execution_count": 19,
     "metadata": {},
     "output_type": "execute_result"
    }
   ],
   "source": [
    "L"
   ]
  },
  {
   "cell_type": "code",
   "execution_count": 20,
   "id": "470cae4a",
   "metadata": {},
   "outputs": [
    {
     "data": {
      "text/plain": [
       "[5, 3, 6, 8]"
      ]
     },
     "execution_count": 20,
     "metadata": {},
     "output_type": "execute_result"
    }
   ],
   "source": [
    "L[1:5]         # without last(dth index)"
   ]
  },
  {
   "cell_type": "code",
   "execution_count": 21,
   "id": "ef09c5c6",
   "metadata": {},
   "outputs": [
    {
     "data": {
      "text/plain": [
       "[3, 6, 8, 3, 7, 9, 12, 26, 43]"
      ]
     },
     "execution_count": 21,
     "metadata": {},
     "output_type": "execute_result"
    }
   ],
   "source": [
    "L[2:]"
   ]
  },
  {
   "cell_type": "code",
   "execution_count": 22,
   "id": "f1f33995",
   "metadata": {},
   "outputs": [
    {
     "data": {
      "text/plain": [
       "[4, 5, 3, 6, 8]"
      ]
     },
     "execution_count": 22,
     "metadata": {},
     "output_type": "execute_result"
    }
   ],
   "source": [
    "L[:5]"
   ]
  },
  {
   "cell_type": "code",
   "execution_count": 23,
   "id": "749d3b10",
   "metadata": {},
   "outputs": [
    {
     "data": {
      "text/plain": [
       "[4, 3, 43]"
      ]
     },
     "execution_count": 23,
     "metadata": {},
     "output_type": "execute_result"
    }
   ],
   "source": [
    "L[::5]  #5*"
   ]
  },
  {
   "cell_type": "code",
   "execution_count": 24,
   "id": "7d894eeb",
   "metadata": {},
   "outputs": [
    {
     "data": {
      "text/plain": [
       "[43, 12, 7, 8, 3, 4]"
      ]
     },
     "execution_count": 24,
     "metadata": {},
     "output_type": "execute_result"
    }
   ],
   "source": [
    "L[::-2]\n"
   ]
  },
  {
   "cell_type": "code",
   "execution_count": 26,
   "id": "60af08a0",
   "metadata": {},
   "outputs": [
    {
     "data": {
      "text/plain": [
       "[4, 5, 3, 6, 8, 3, 7, 9, 12, 26]"
      ]
     },
     "execution_count": 26,
     "metadata": {},
     "output_type": "execute_result"
    }
   ],
   "source": [
    "L[:-1]"
   ]
  },
  {
   "cell_type": "code",
   "execution_count": 27,
   "id": "95125434",
   "metadata": {},
   "outputs": [
    {
     "data": {
      "text/plain": [
       "[12, 26, 43]"
      ]
     },
     "execution_count": 27,
     "metadata": {},
     "output_type": "execute_result"
    }
   ],
   "source": [
    "L[-3:]"
   ]
  },
  {
   "cell_type": "code",
   "execution_count": 28,
   "id": "ecfddbcb",
   "metadata": {},
   "outputs": [
    {
     "data": {
      "text/plain": [
       "[12, 26, 43]"
      ]
     },
     "execution_count": 28,
     "metadata": {},
     "output_type": "execute_result"
    }
   ],
   "source": [
    "L[-3:]"
   ]
  },
  {
   "cell_type": "code",
   "execution_count": null,
   "id": "7539c024",
   "metadata": {},
   "outputs": [],
   "source": []
  }
 ],
 "metadata": {
  "kernelspec": {
   "display_name": "Python 3 (ipykernel)",
   "language": "python",
   "name": "python3"
  },
  "language_info": {
   "codemirror_mode": {
    "name": "ipython",
    "version": 3
   },
   "file_extension": ".py",
   "mimetype": "text/x-python",
   "name": "python",
   "nbconvert_exporter": "python",
   "pygments_lexer": "ipython3",
   "version": "3.9.13"
  }
 },
 "nbformat": 4,
 "nbformat_minor": 5
}
